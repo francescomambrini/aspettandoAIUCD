{
 "cells": [
  {
   "attachments": {},
   "cell_type": "markdown",
   "metadata": {},
   "source": [
    "# Introduzione a Python per l’analisi dei dati testuali"
   ]
  },
  {
   "attachments": {},
   "cell_type": "markdown",
   "metadata": {},
   "source": [
    "Questo è un [Jupyter Notebook](https://jupyter-notebook-beginner-guide.readthedocs.io/en/latest/what_is_jupyter.html), ovvero un file che contiene codice scritto in Python eseguibile dall'interprete e caselle di testo come questa, formattabili utilizzando la sintassi di un linguaggio di markup chiamato [Markdown](https://it.wikipedia.org/wiki/Markdown). È un ottimo strumento per mischiare codice e spiegazioni!\n",
    "\n",
    "Cominciamo!"
   ]
  },
  {
   "attachments": {},
   "cell_type": "markdown",
   "metadata": {},
   "source": [
    "## Due parole su Python"
   ]
  },
  {
   "attachments": {},
   "cell_type": "markdown",
   "metadata": {},
   "source": [
    "Questa è una mia traduzione della risposta alla domanda [\"what is Python\"](https://docs.python.org/3/faq/general.html#what-is-python) sulle FAQ del sito [www.python.org](www.python.org):\n",
    "\n",
    "> Python è un linguaggio di programmazione `interpretato, interattivo e orientato agli oggetti`. Incorpora al proprio interno `moduli, eccezioni, tipizzazione dinamica, tipi di dati di altissimo livello e classi`. Supporta `molteplici paradigmi di programmazione`, oltre alla programmazione orientata agli oggetti, ad esempio la programmazione procedurale funzionale. Python combino un eccezionale potenza con una sintassi estremamente chiara. [...] Da ultimo, `Python e portabile`: può girare su molte varianti di UNIX, incluso Linux e MacOS, e su Windows."
   ]
  },
  {
   "attachments": {},
   "cell_type": "markdown",
   "metadata": {},
   "source": [
    "In parole molto semplici, Python è un linguaggio di programmazione interpretato, ovvero necessita di un particolare programma (un **interprete**) affiché i comandi che noi scriviamo utilizzando la sua sintassi vengano \"tradotte\" riga per riga nella \"lingua madre\" del computer.\n",
    "\n",
    "L'interprete Python può essere eseguito in **modalità interattiva**, ovvero possiamo avviarlo e scrivere istruzioni che vengono immediatamente eseguite. Non è necessario scrivere prima uno script che viene poi letto e interpretato. Possiamo \"dialogare\" con il nostro interprete e questo è una grandissima comodità quando si impara!"
   ]
  },
  {
   "attachments": {},
   "cell_type": "markdown",
   "metadata": {},
   "source": [
    "In un Jupyter notebook, noi possiamo scrivere le nostre istruzioni nelle celle di codice (**Attenzione**: dovete assicurarvi di creare celle di codice, non di testo. È sempre possibile cambiare la tipologia di una cella). Dopodiché, lanciando il comando \"esegui\" sulla cella, le istruzioni verranno eseguite dall'interprete.\n",
    "\n",
    "Alcuni \"shortcut\" comodi in Jupyter:\n",
    "- `esc`: deselzionare la cella; se siete all'interno di una cella, ad es. per modificarne il contenuto, è necessario uscirne per eseguire alcuni comandi, come ad es. cambiare la tipologia da codice a testo. Vedrete che il bordo della cella cambia colore!\n",
    "- `esc+m`: uscire dalla cella e trasformare la cella da codice a testo\n",
    "- `esc+y`: uscire dalla cella e trasformare la cella da testo a codice\n",
    "- `shift+return`: esegui la cella e passa alla successiva\n",
    "- `option+return`: esegui la cella e creane una vuota (dello stesso tipo) immediatamente sotto\n",
    "- `esc+dd`: esci dalla cella ed eliminala (attenzione! la cella è persa per sempre...)"
   ]
  },
  {
   "attachments": {},
   "cell_type": "markdown",
   "metadata": {},
   "source": [
    "Ad esempio, eseguiamo questo strano comando (non preoccupatevi: cosa significa l'istruzione `import` lo vedremo dopo!)"
   ]
  },
  {
   "cell_type": "code",
   "execution_count": 1,
   "metadata": {},
   "outputs": [
    {
     "name": "stdout",
     "output_type": "stream",
     "text": [
      "The Zen of Python, by Tim Peters\n",
      "\n",
      "Beautiful is better than ugly.\n",
      "Explicit is better than implicit.\n",
      "Simple is better than complex.\n",
      "Complex is better than complicated.\n",
      "Flat is better than nested.\n",
      "Sparse is better than dense.\n",
      "Readability counts.\n",
      "Special cases aren't special enough to break the rules.\n",
      "Although practicality beats purity.\n",
      "Errors should never pass silently.\n",
      "Unless explicitly silenced.\n",
      "In the face of ambiguity, refuse the temptation to guess.\n",
      "There should be one-- and preferably only one --obvious way to do it.\n",
      "Although that way may not be obvious at first unless you're Dutch.\n",
      "Now is better than never.\n",
      "Although never is often better than *right* now.\n",
      "If the implementation is hard to explain, it's a bad idea.\n",
      "If the implementation is easy to explain, it may be a good idea.\n",
      "Namespaces are one honking great idea -- let's do more of those!\n"
     ]
    }
   ],
   "source": [
    "import this"
   ]
  },
  {
   "attachments": {},
   "cell_type": "markdown",
   "metadata": {},
   "source": [
    "## E ora... Python!"
   ]
  },
  {
   "attachments": {},
   "cell_type": "markdown",
   "metadata": {},
   "source": [
    "Che cosa possiamo fare con Python? Beh... un computer sarà bravo a fare i calcoli, no?"
   ]
  },
  {
   "cell_type": "code",
   "execution_count": 9,
   "metadata": {},
   "outputs": [
    {
     "data": {
      "text/plain": [
       "5"
      ]
     },
     "execution_count": 9,
     "metadata": {},
     "output_type": "execute_result"
    }
   ],
   "source": [
    "# quanto fa 2+3?\n",
    "# A proposito: io sono un commento. Ogni riga di codice che inizia con # viene \n",
    "# ignorata dall'interprete\n",
    "\n",
    "2 + 3"
   ]
  },
  {
   "attachments": {},
   "cell_type": "markdown",
   "metadata": {},
   "source": [
    "Ottimo! Abbiamo scritto la nostra prima riga di codice. Ora un piccolo esercizio per voi. Scrivete nella cella sotto un programma che calcoli quanti minuti ci sono in 3 settimane.\n",
    "\n",
    "(**Suggerimento**: usare `*` per la moltiplicazione)"
   ]
  },
  {
   "cell_type": "code",
   "execution_count": 5,
   "metadata": {},
   "outputs": [
    {
     "data": {
      "text/plain": [
       "70560"
      ]
     },
     "execution_count": 5,
     "metadata": {},
     "output_type": "execute_result"
    }
   ],
   "source": [
    "# In 3 settimane ci sono "
   ]
  },
  {
   "cell_type": "code",
   "execution_count": null,
   "metadata": {},
   "outputs": [],
   "source": []
  }
 ],
 "metadata": {
  "kernelspec": {
   "display_name": "Python 3",
   "language": "python",
   "name": "python3"
  },
  "language_info": {
   "codemirror_mode": {
    "name": "ipython",
    "version": 3
   },
   "file_extension": ".py",
   "mimetype": "text/x-python",
   "name": "python",
   "nbconvert_exporter": "python",
   "pygments_lexer": "ipython3",
   "version": "3.9.13"
  },
  "orig_nbformat": 4
 },
 "nbformat": 4,
 "nbformat_minor": 2
}
