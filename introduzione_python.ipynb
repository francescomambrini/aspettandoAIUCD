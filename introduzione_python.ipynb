{
 "cells": [
  {
   "attachments": {},
   "cell_type": "markdown",
   "metadata": {},
   "source": [
    "# Introduzione a Python per l’analisi dei dati testuali"
   ]
  },
  {
   "attachments": {},
   "cell_type": "markdown",
   "metadata": {},
   "source": [
    "Questo è un [Jupyter Notebook](https://jupyter-notebook-beginner-guide.readthedocs.io/en/latest/what_is_jupyter.html), ovvero un file che contiene codice scritto in Python eseguibile dall'interprete e caselle di testo come questa, formattabili utilizzando la sintassi di un linguaggio di markup chiamato [Markdown](https://it.wikipedia.org/wiki/Markdown). È un ottimo strumento per mischiare codice e spiegazioni!\n",
    "\n",
    "Cominciamo!"
   ]
  },
  {
   "attachments": {},
   "cell_type": "markdown",
   "metadata": {},
   "source": [
    "## Due parole su Python"
   ]
  },
  {
   "attachments": {},
   "cell_type": "markdown",
   "metadata": {},
   "source": [
    "Questa è una mia traduzione della risposta alla domanda [\"what is Python\"](https://docs.python.org/3/faq/general.html#what-is-python) sulle FAQ del sito [www.python.org](www.python.org):\n",
    "\n",
    "> Python è un linguaggio di programmazione `interpretato, interattivo e orientato agli oggetti`. Incorpora al proprio interno `moduli, eccezioni, tipizzazione dinamica, tipi di dati di altissimo livello e classi`. Supporta `molteplici paradigmi di programmazione`, oltre alla programmazione orientata agli oggetti, ad esempio la programmazione procedurale funzionale. Python combino un eccezionale potenza con una sintassi estremamente chiara. [...] Da ultimo, `Python e portabile`: può girare su molte varianti di UNIX, incluso Linux e MacOS, e su Windows."
   ]
  },
  {
   "attachments": {},
   "cell_type": "markdown",
   "metadata": {},
   "source": [
    "In parole molto semplici, Python è un linguaggio di programmazione interpretato, ovvero necessita di un particolare programma (un **interprete**) affiché i comandi che noi scriviamo utilizzando la sua sintassi vengano \"tradotte\" riga per riga nella \"lingua madre\" del computer.\n",
    "\n",
    "L'interprete Python può essere eseguito in **modalità interattiva**, ovvero possiamo avviarlo e scrivere istruzioni che vengono immediatamente eseguite. Non è necessario scrivere prima uno script che viene poi letto e interpretato. Possiamo \"dialogare\" con il nostro interprete e questo è una grandissima comodità quando si impara!"
   ]
  },
  {
   "attachments": {},
   "cell_type": "markdown",
   "metadata": {},
   "source": [
    "In un Jupyter notebook, noi possiamo scrivere le nostre istruzioni nelle celle di codice (**Attenzione**: dovete assicurarvi di creare celle di codice, non di testo. È sempre possibile cambiare la tipologia di una cella). Dopodiché, lanciando il comando \"esegui\" sulla cella, le istruzioni verranno eseguite dall'interprete.\n",
    "\n",
    "Alcuni \"shortcut\" comodi in Jupyter:\n",
    "- `esc`: deselzionare la cella; se siete all'interno di una cella, ad es. per modificarne il contenuto, è necessario uscirne per eseguire alcuni comandi, come ad es. cambiare la tipologia da codice a testo. Vedrete che il bordo della cella cambia colore!\n",
    "- `esc+m`: uscire dalla cella e trasformare la cella da codice a testo\n",
    "- `esc+y`: uscire dalla cella e trasformare la cella da testo a codice\n",
    "- `shift+return`: esegui la cella e passa alla successiva\n",
    "- `option+return`: esegui la cella e creane una vuota (dello stesso tipo) immediatamente sotto\n",
    "- `esc+dd`: esci dalla cella ed eliminala (attenzione! la cella è persa per sempre...)"
   ]
  },
  {
   "attachments": {},
   "cell_type": "markdown",
   "metadata": {},
   "source": [
    "Ad esempio, eseguiamo questo strano comando (non preoccupatevi: cosa significa l'istruzione `import` lo vedremo dopo!)"
   ]
  },
  {
   "cell_type": "code",
   "execution_count": 1,
   "metadata": {},
   "outputs": [
    {
     "name": "stdout",
     "output_type": "stream",
     "text": [
      "The Zen of Python, by Tim Peters\n",
      "\n",
      "Beautiful is better than ugly.\n",
      "Explicit is better than implicit.\n",
      "Simple is better than complex.\n",
      "Complex is better than complicated.\n",
      "Flat is better than nested.\n",
      "Sparse is better than dense.\n",
      "Readability counts.\n",
      "Special cases aren't special enough to break the rules.\n",
      "Although practicality beats purity.\n",
      "Errors should never pass silently.\n",
      "Unless explicitly silenced.\n",
      "In the face of ambiguity, refuse the temptation to guess.\n",
      "There should be one-- and preferably only one --obvious way to do it.\n",
      "Although that way may not be obvious at first unless you're Dutch.\n",
      "Now is better than never.\n",
      "Although never is often better than *right* now.\n",
      "If the implementation is hard to explain, it's a bad idea.\n",
      "If the implementation is easy to explain, it may be a good idea.\n",
      "Namespaces are one honking great idea -- let's do more of those!\n"
     ]
    }
   ],
   "source": [
    "import this"
   ]
  },
  {
   "attachments": {},
   "cell_type": "markdown",
   "metadata": {},
   "source": [
    "## E ora... Python!"
   ]
  },
  {
   "attachments": {},
   "cell_type": "markdown",
   "metadata": {},
   "source": [
    "Che cosa possiamo fare con Python? Beh... un computer sarà bravo a fare i calcoli, no?"
   ]
  },
  {
   "cell_type": "code",
   "execution_count": 9,
   "metadata": {},
   "outputs": [
    {
     "data": {
      "text/plain": [
       "5"
      ]
     },
     "execution_count": 9,
     "metadata": {},
     "output_type": "execute_result"
    }
   ],
   "source": [
    "# quanto fa 2+3?\n",
    "# A proposito: io sono un commento. Ogni riga di codice che inizia con # viene \n",
    "# ignorata dall'interprete\n",
    "\n",
    "2 + 3"
   ]
  },
  {
   "attachments": {},
   "cell_type": "markdown",
   "metadata": {},
   "source": [
    "### Il nostro primo \"programmino\""
   ]
  },
  {
   "attachments": {},
   "cell_type": "markdown",
   "metadata": {},
   "source": [
    "Ottimo! Abbiamo scritto la nostra prima riga di codice. Ora un piccolo esercizio per voi. Scrivete nella cella sotto un programma che calcoli quanti minuti ci sono in 3 settimane.\n",
    "\n",
    "(**Suggerimento**: usare `*` per la moltiplicazione)"
   ]
  },
  {
   "cell_type": "code",
   "execution_count": 2,
   "metadata": {},
   "outputs": [],
   "source": [
    "# In 3 settimane ci sono...\n"
   ]
  },
  {
   "attachments": {},
   "cell_type": "markdown",
   "metadata": {},
   "source": [
    "### Le variabili"
   ]
  },
  {
   "attachments": {},
   "cell_type": "markdown",
   "metadata": {},
   "source": [
    "Suppongo, però, che il nostro obiettivo sia usare il computer per fare qualcosa di un po' più complesso... Ad esempio, probabilmente, una volta che abbiamo scoperto quanti giorni ci sono in una settimana, potremmo volere salvare il risultato e aggiungere qualche altro numero.\n",
    "\n",
    "Quanti minuti abbiamo se ai nostri minuti in 3 settimane aggiungiamo i minuti di un giorno? E di 2 giorni?\n",
    "\n",
    "Per fare questo (ovvero: **salvare** i risultati di un'operazione in una \"scatoletta\" che possiamo riprendere per svolgere operazioni successive) usiamo le `variabili`!\n",
    "\n",
    "Pensate ad una variabile come ad una scatola di scarpe: la create e la riempite del contenuto che vi serve.\n",
    "\n",
    "Ad esempio:\n",
    "- calcoliamo quanti minuti ci sono in un giorno e salviamolo in una variabile (`giorno`)\n",
    "- moltiplichiamo `giorno` * 7 e salviamolo in una variabile (`sett`)\n",
    "- sommiamo: `sett * 3 + giorno`"
   ]
  },
  {
   "cell_type": "code",
   "execution_count": 24,
   "metadata": {},
   "outputs": [
    {
     "name": "stdout",
     "output_type": "stream",
     "text": [
      "In tre settimane + 1 giorno ci sono 31680 minuti\n"
     ]
    }
   ],
   "source": [
    "giorno = 60 * 24\n",
    "sett = giorno * 7\n",
    "print('In tre settimane + 1 giorno ci sono ' + str(sett * 3 + giorno) + ' minuti')"
   ]
  },
  {
   "attachments": {},
   "cell_type": "markdown",
   "metadata": {},
   "source": [
    "Nell'ultima riga ho fatto un bel po' di cose complicate! In particolare:\n",
    "- ho usato la **funzione** predefinita `print`\n",
    "- ho concatenato il risultato della nostra variabile con del testo ('In una settimana...')\n",
    "- ho usato un altro 'oggetto misterioso' `str()`"
   ]
  },
  {
   "attachments": {},
   "cell_type": "markdown",
   "metadata": {},
   "source": [
    "Cominciamo da `print`. Quando non sappiamo qualcosa, Python ci aiuta sempre: usiamo la funzione `help()` per farci stampare la documentazione:"
   ]
  },
  {
   "cell_type": "code",
   "execution_count": 9,
   "metadata": {},
   "outputs": [
    {
     "name": "stdout",
     "output_type": "stream",
     "text": [
      "Help on built-in function print in module builtins:\n",
      "\n",
      "print(...)\n",
      "    print(value, ..., sep=' ', end='\\n', file=sys.stdout, flush=False)\n",
      "    \n",
      "    Prints the values to a stream, or to sys.stdout by default.\n",
      "    Optional keyword arguments:\n",
      "    file:  a file-like object (stream); defaults to the current sys.stdout.\n",
      "    sep:   string inserted between values, default a space.\n",
      "    end:   string appended after the last value, default a newline.\n",
      "    flush: whether to forcibly flush the stream.\n",
      "\n"
     ]
    }
   ],
   "source": [
    "help(print)"
   ]
  },
  {
   "attachments": {},
   "cell_type": "markdown",
   "metadata": {},
   "source": [
    "### Le funzioni"
   ]
  },
  {
   "attachments": {},
   "cell_type": "markdown",
   "metadata": {},
   "source": [
    "`print`, dunque, è una *funzione*, ovvero un blocco di codice che serve a fare qualcosa e viene eseguito quando è chiamato. Può richiedere degli argomenti (alcuni dei quali possono avere dei valori di default preimpostati) e può restituire un output, che possiamo salvare in una variabile. È molto comune, ad esempio, scrivere istruzioni di questo tipo:\n",
    "\n",
    "```python\n",
    "x = some_function(par1, par2)\n",
    "```\n",
    "\n",
    "Che leggiamo così: esegui il codice di `some_function` passandogli `par1` e `par2` come input; salva il risultato nella variabile `x`.\n",
    "\n",
    "Possiamo noi stessi definire le nostre funzioni, in modo tale da non dover riscrivere sempre lo stesso codice!!!\n",
    "\n",
    "Ad esempio, se vogliamo calcolare quanti minuti ci sono in una settimana e/o in un giorno possiamo scrivere 2 funzioni: `minperday` e `minperweek`. Ciascuna delle due prenderà 1 argomento come input: rispettivamente, il numero di giorni e il numero di settimane; la seconda funzione invocherà la prima moltiplicando il risultato per 7! facile no?\n",
    "\n",
    "Vediamo qual è la sintassi in Python:"
   ]
  },
  {
   "cell_type": "code",
   "execution_count": 39,
   "metadata": {},
   "outputs": [
    {
     "name": "stdout",
     "output_type": "stream",
     "text": [
      "In 3 settimane + 1 giorno ci sono 31680 minuti\n"
     ]
    }
   ],
   "source": [
    "def minperday(days):\n",
    "    result = days * 60 * 24\n",
    "    return result\n",
    "\n",
    "def minperweek(weeks):\n",
    "    dd = weeks * 7\n",
    "    return minperday(dd)\n",
    "\n",
    "three_week = minperweek(3)\n",
    "one_day = minperday(1)\n",
    "\n",
    "print('In 3 settimane + 1 giorno ci sono ' + str(three_week + one_day) + ' minuti')"
   ]
  },
  {
   "attachments": {},
   "cell_type": "markdown",
   "metadata": {},
   "source": [
    "Cosa notate nella sintassi della definizione di una formula? Vi faccio io un breve elenco:\n",
    "- keyword `def`: stiamo iniziando la definizione di una funzione\n",
    "- i due punti `:` alla fine della riga in cui diamo un nome alla funzione e elenchiamo gli argomenti tra parentesi\n",
    "\n",
    "e... (rullo di tamburi...)\n",
    "\n",
    "- l'**indentatura** delle righe dove viene definito il codice della funzione!\n",
    "\n",
    "L'indentatura è un aspetto *fondamentale* della sintassi di Python. L'indentatura è l'unica cosa che, in questo codice, ci permette di sapere che le righe di codice che definiscono il funzionamento di `minperweek` (ad es.) appartengono alla funzione.\n",
    "\n",
    "Proviamo a vedere che succede se togliamo i 4 spazi all'ultima riga di `minperweek`:"
   ]
  },
  {
   "cell_type": "code",
   "execution_count": 32,
   "metadata": {},
   "outputs": [
    {
     "ename": "SyntaxError",
     "evalue": "'return' outside function (3458504271.py, line 3)",
     "output_type": "error",
     "traceback": [
      "\u001b[0;36m  Input \u001b[0;32mIn [32]\u001b[0;36m\u001b[0m\n\u001b[0;31m    return minperday(dd)\u001b[0m\n\u001b[0m    ^\u001b[0m\n\u001b[0;31mSyntaxError\u001b[0m\u001b[0;31m:\u001b[0m 'return' outside function\n"
     ]
    }
   ],
   "source": [
    "def minperweek(weeks):\n",
    "    dd = weeks * 7\n",
    "return minperday(dd)"
   ]
  },
  {
   "attachments": {},
   "cell_type": "markdown",
   "metadata": {},
   "source": [
    "Quanti spazi bianchi per indentare il codice? È indifferente! Possono essere 2, 4, 6; può anche essere 1 carattere di tabulazione (`\\t`; **attenzione**: ricordatevi che il tabulato e lo spazio bianco per il computer sono caratteri diversi!). L'importante è che lo stesso numero di spazi sia usato sempre e che per livelli successivi di indentatura (quando il codice è \"nested\") si usino dei multipli (es 4 spazi per il primo livello, 8 per il secondo...).\n",
    "\n",
    "Di default, si usano 4 spazi bianchi per livello di indent. Fate la prova: nella cella successiva scrivete `def my_func():` e premete invio (non uscite dalla cella!). Vedrete che Jupyter vi manderà a capo e creerà automaticamente la giusta indentatura "
   ]
  },
  {
   "cell_type": "code",
   "execution_count": null,
   "metadata": {},
   "outputs": [],
   "source": []
  },
  {
   "attachments": {},
   "cell_type": "markdown",
   "metadata": {},
   "source": [
    "## Tipi di dati"
   ]
  },
  {
   "attachments": {},
   "cell_type": "markdown",
   "metadata": {},
   "source": [
    "### Numeri interi e stringhe"
   ]
  },
  {
   "attachments": {},
   "cell_type": "markdown",
   "metadata": {},
   "source": [
    "Proviamo a riscrivere il codice di prima \"dimenticandoci\" di passare il risultato a `str()`"
   ]
  },
  {
   "cell_type": "code",
   "execution_count": 40,
   "metadata": {},
   "outputs": [
    {
     "ename": "TypeError",
     "evalue": "can only concatenate str (not \"int\") to str",
     "output_type": "error",
     "traceback": [
      "\u001b[0;31m---------------------------------------------------------------------------\u001b[0m",
      "\u001b[0;31mTypeError\u001b[0m                                 Traceback (most recent call last)",
      "\u001b[1;32m/Users/francesco.mambrini/Documents/sync/sync_scripta/corsi_seminari/aspettandoAIUCD/introduzione_python.ipynb Cella 30\u001b[0m in \u001b[0;36m<cell line: 5>\u001b[0;34m()\u001b[0m\n\u001b[1;32m      <a href='vscode-notebook-cell:/Users/francesco.mambrini/Documents/sync/sync_scripta/corsi_seminari/aspettandoAIUCD/introduzione_python.ipynb#X54sZmlsZQ%3D%3D?line=1'>2</a>\u001b[0m one_day \u001b[39m=\u001b[39m minperday(\u001b[39m1\u001b[39m)\n\u001b[1;32m      <a href='vscode-notebook-cell:/Users/francesco.mambrini/Documents/sync/sync_scripta/corsi_seminari/aspettandoAIUCD/introduzione_python.ipynb#X54sZmlsZQ%3D%3D?line=2'>3</a>\u001b[0m result \u001b[39m=\u001b[39m three_week \u001b[39m+\u001b[39m one_day\n\u001b[0;32m----> <a href='vscode-notebook-cell:/Users/francesco.mambrini/Documents/sync/sync_scripta/corsi_seminari/aspettandoAIUCD/introduzione_python.ipynb#X54sZmlsZQ%3D%3D?line=4'>5</a>\u001b[0m \u001b[39mprint\u001b[39m(\u001b[39m'\u001b[39;49m\u001b[39mIn 3 settimane + 1 giorno ci sono \u001b[39;49m\u001b[39m'\u001b[39;49m \u001b[39m+\u001b[39;49m \n\u001b[1;32m      <a href='vscode-notebook-cell:/Users/francesco.mambrini/Documents/sync/sync_scripta/corsi_seminari/aspettandoAIUCD/introduzione_python.ipynb#X54sZmlsZQ%3D%3D?line=5'>6</a>\u001b[0m        result \u001b[39m+\u001b[39m\n\u001b[1;32m      <a href='vscode-notebook-cell:/Users/francesco.mambrini/Documents/sync/sync_scripta/corsi_seminari/aspettandoAIUCD/introduzione_python.ipynb#X54sZmlsZQ%3D%3D?line=6'>7</a>\u001b[0m        \u001b[39m'\u001b[39m\u001b[39m minuti\u001b[39m\u001b[39m'\u001b[39m)\n",
      "\u001b[0;31mTypeError\u001b[0m: can only concatenate str (not \"int\") to str"
     ]
    }
   ],
   "source": [
    "three_week = minperweek(3)\n",
    "one_day = minperday(1)\n",
    "result = three_week + one_day\n",
    "\n",
    "print('In 3 settimane + 1 giorno ci sono ' + \n",
    "       result +\n",
    "       ' minuti')"
   ]
  },
  {
   "attachments": {},
   "cell_type": "markdown",
   "metadata": {},
   "source": [
    "Molto interessante! Abbiamo il seguente messaggio di erroe:\n",
    "\n",
    "```python\n",
    "TypeError: can only concatenate str (not \"int\") to str\n",
    "```\n",
    "\n",
    "Sembra quasi che a Python non piaccia la nostra idea di \"concatenare\" due oggetti chiamati `int` e `str`. Il nostro interprete ci informa che possiamo solo concatenare `str` con `str`. "
   ]
  },
  {
   "attachments": {},
   "cell_type": "markdown",
   "metadata": {},
   "source": [
    "Ogni linguaggio di programmazione definisci i *tipi* di dati con cui può lavorare, il come li conserva nella memoria e li elabora, e i tipi di operazioni che può svolgere su di essi. In molti linguaggi, prima di usare una variabile bisogna dichiarare il tipo di valore che conterrà e questo tipo, non può cambiare!\n",
    "\n",
    "Ad es. in Java per creare una variabile `myNum` inizializzata col valore 15, scriveremmo:\n",
    "\n",
    "```java\n",
    "int myNum = 15;\n",
    "```\n",
    "\n",
    "Possiamo aggiornare il valore di `myNum` a piacimento, ma non potremmo salvare una stringa di testo!\n",
    "\n",
    "Non così in Python, dove il tipo è assegnato dinamicamente.\n",
    "\n",
    "Fino ad ora, abbiamo lavorato con operazioni matematiche che restituivano numeri interi. Non sorprende che il tipo di valore restituito come output dalla funzione (ad es.) `minperday` sia di tipo \"numero intero\", in inglese *integer*, ovvero `int`.\n",
    "\n",
    "In python, per conoscere il tipo di un dato conservato in una variabile possiamo usare la funzione `type()`:"
   ]
  },
  {
   "cell_type": "code",
   "execution_count": 41,
   "metadata": {},
   "outputs": [
    {
     "data": {
      "text/plain": [
       "int"
      ]
     },
     "execution_count": 41,
     "metadata": {},
     "output_type": "execute_result"
    }
   ],
   "source": [
    "one_day = minperday(1)\n",
    "type(one_day)"
   ]
  },
  {
   "attachments": {},
   "cell_type": "markdown",
   "metadata": {},
   "source": [
    "E come facciamo a sapere il tipo di \"in una settimana\"?\n",
    "\n",
    "(non importa che salviate i dati in una variabile! Potete passare direttamente il valore, ad es. la stringa di testo, alla funzione type)"
   ]
  },
  {
   "cell_type": "code",
   "execution_count": null,
   "metadata": {},
   "outputs": [],
   "source": []
  },
  {
   "attachments": {},
   "cell_type": "markdown",
   "metadata": {},
   "source": [
    "Ogni sequenza di caratteri testuali è una stringa di testo `str`!"
   ]
  },
  {
   "attachments": {},
   "cell_type": "markdown",
   "metadata": {},
   "source": [
    "È possibile convertire un tipo in un altro. Certamente! `str()` nel codice sopra faceva esattamente questo: convertiva l'int restituito dalle funzioni in modo da poterlo concatenare con le altre stringhe (\"In una settimana ci sono...\").\n",
    "\n",
    "(parentesi: c'è un modo molto più \"carino\" di farlo in Python 3, utilizzando le cosiddette `f-string`, ovvero stringhe in cui possiamo inserire variabili):"
   ]
  },
  {
   "cell_type": "code",
   "execution_count": 42,
   "metadata": {},
   "outputs": [
    {
     "name": "stdout",
     "output_type": "stream",
     "text": [
      "In 3 settimane + 1 giorno ci sono 31680 minuti\n"
     ]
    }
   ],
   "source": [
    "one_day = minperday(1)\n",
    "three_week = minperweek(3)\n",
    "print(f'In 3 settimane + 1 giorno ci sono {three_week + one_day} minuti')"
   ]
  },
  {
   "attachments": {},
   "cell_type": "markdown",
   "metadata": {},
   "source": [
    "Per creare una stringa, semplicemente scriviamo il testo fra virgolette, doppie o semplici:"
   ]
  },
  {
   "cell_type": "code",
   "execution_count": 43,
   "metadata": {},
   "outputs": [
    {
     "name": "stdout",
     "output_type": "stream",
     "text": [
      "hello!\n",
      "goodbye!\n"
     ]
    }
   ],
   "source": [
    "hello = 'hello!'\n",
    "print(hello)\n",
    "hello = \"goodbye!\"\n",
    "print(hello)"
   ]
  },
  {
   "cell_type": "code",
   "execution_count": 44,
   "metadata": {},
   "outputs": [
    {
     "name": "stdout",
     "output_type": "stream",
     "text": [
      "I said \"hello\"!\n"
     ]
    }
   ],
   "source": [
    "message = 'I said \"hello\"!'\n",
    "print(message)"
   ]
  },
  {
   "attachments": {},
   "cell_type": "markdown",
   "metadata": {},
   "source": [
    "Ecco un elenco dei tipi di dati di base:"
   ]
  },
  {
   "attachments": {},
   "cell_type": "markdown",
   "metadata": {},
   "source": [
    "\n",
    "- Integers (-1,0,1,2,3,4...)\n",
    "- Strings (\"Hello\", \"s\", \"Wolfgang Amadeus Mozart\", \"I am the α and the ω!\"...)\n",
    "- floats (3.14159; 2.71828...)\n",
    "- Booleans (True, False)\n"
   ]
  },
  {
   "attachments": {},
   "cell_type": "markdown",
   "metadata": {},
   "source": [
    "Se Python è così \"carino\" da non farci dichiarare i tipi delle variabili al momento della creazione, perché dovrebbe importancene qualcosa del tipo di un dato?\n",
    "\n",
    "Beh, perché Python non ci lascia fare tutto con tutti i tipi di dati! Abbiamo visto cosa succede se proviamo a concatenare stringhe e numeri interi, ad esempio. E le operazioni non significano esattamente la stessa cosa se fatte su un tipo o su un altro!\n",
    "\n",
    "Prendiamo `2` e `3` e convertiamoli in stringhe. Proviamo a sommarli. Che risultato abbiamo?"
   ]
  },
  {
   "cell_type": "code",
   "execution_count": null,
   "metadata": {},
   "outputs": [],
   "source": []
  },
  {
   "attachments": {},
   "cell_type": "markdown",
   "metadata": {},
   "source": [
    "### Liste e dizionari"
   ]
  },
  {
   "attachments": {},
   "cell_type": "markdown",
   "metadata": {},
   "source": [
    "Liste e dizionari ci consentono di conservare collezioni di più dati!"
   ]
  },
  {
   "cell_type": "code",
   "execution_count": 46,
   "metadata": {},
   "outputs": [
    {
     "data": {
      "text/plain": [
       "list"
      ]
     },
     "execution_count": 46,
     "metadata": {},
     "output_type": "execute_result"
    }
   ],
   "source": [
    "beatles = [\"John\", \"Paul\", \"George\", \"Ringo\"]\n",
    "type(beatles)"
   ]
  },
  {
   "cell_type": "code",
   "execution_count": 47,
   "metadata": {},
   "outputs": [
    {
     "data": {
      "text/plain": [
       "dict"
      ]
     },
     "execution_count": 47,
     "metadata": {},
     "output_type": "execute_result"
    }
   ],
   "source": [
    "# dictionaries collections of key : value pairs\n",
    "beatles_dictionary = { \"john\" : \"John Lennon\" ,\n",
    "                      \"paul\" : \"Paul McCartney\",\n",
    "                      \"george\" : \"George Harrison\",\n",
    "                      \"ringo\" : \"Ringo Starr\"}\n",
    "type(beatles_dictionary)"
   ]
  },
  {
   "attachments": {},
   "cell_type": "markdown",
   "metadata": {},
   "source": [
    "(Ci sono anche [tuple](https://docs.python.org/3/tutorial/datastructures.html#tuples-and-sequences) e [set](https://docs.python.org/3/tutorial/datastructures.html#sets) ma non facciamo in tempo a parlarne!)"
   ]
  },
  {
   "attachments": {},
   "cell_type": "markdown",
   "metadata": {},
   "source": [
    "Gli oggetti nelle liste sono accessibili attraverso un indice. Ma **ricordatevi** che l'indice parte da 0!!!"
   ]
  },
  {
   "cell_type": "code",
   "execution_count": 48,
   "metadata": {},
   "outputs": [
    {
     "name": "stdout",
     "output_type": "stream",
     "text": [
      "John\n"
     ]
    }
   ],
   "source": [
    "print(beatles[0])"
   ]
  },
  {
   "cell_type": "code",
   "execution_count": 49,
   "metadata": {},
   "outputs": [
    {
     "name": "stdout",
     "output_type": "stream",
     "text": [
      "Ringo\n"
     ]
    }
   ],
   "source": [
    "#indexes can be negative!\n",
    "print(beatles[-1])"
   ]
  },
  {
   "attachments": {},
   "cell_type": "markdown",
   "metadata": {},
   "source": [
    "I dizionari sono coppie di chiavi:valori; si può recuperare i valori usando le chiavi come indice"
   ]
  },
  {
   "cell_type": "code",
   "execution_count": 50,
   "metadata": {},
   "outputs": [
    {
     "data": {
      "text/plain": [
       "'John Lennon'"
      ]
     },
     "execution_count": 50,
     "metadata": {},
     "output_type": "execute_result"
    }
   ],
   "source": [
    "# beatles_dictionary[0] non funzionerà!!!\n",
    "\n",
    "beatles_dictionary[\"john\"]"
   ]
  },
  {
   "attachments": {},
   "cell_type": "markdown",
   "metadata": {},
   "source": [
    "Ci sono un po' di metodi delle liste che possiamo usare per lavorare con il loro contenuto:"
   ]
  },
  {
   "cell_type": "code",
   "execution_count": 51,
   "metadata": {},
   "outputs": [
    {
     "data": {
      "text/plain": [
       "['John', 'Paul', 'George', 'Ringo', 'Billy Preston']"
      ]
     },
     "execution_count": 51,
     "metadata": {},
     "output_type": "execute_result"
    }
   ],
   "source": [
    "# usiamo `append()` per aggiungere elementi\n",
    "beatles.append(\"Billy Preston\")\n",
    "beatles"
   ]
  },
  {
   "cell_type": "code",
   "execution_count": 52,
   "metadata": {},
   "outputs": [
    {
     "data": {
      "text/plain": [
       "2"
      ]
     },
     "execution_count": 52,
     "metadata": {},
     "output_type": "execute_result"
    }
   ],
   "source": [
    "# possiamo scoprire l'indice di un elemento (il primo, se ce n'è più di uno)\n",
    "beatles.index(\"George\")"
   ]
  },
  {
   "cell_type": "code",
   "execution_count": 53,
   "metadata": {},
   "outputs": [
    {
     "name": "stdout",
     "output_type": "stream",
     "text": [
      "3\n"
     ]
    },
    {
     "data": {
      "text/plain": [
       "['Pete Best', 'John', 'Paul', 'George', 'Ringo', 'Billy Preston']"
      ]
     },
     "execution_count": 53,
     "metadata": {},
     "output_type": "execute_result"
    }
   ],
   "source": [
    "# possiamo inserire un elemento ad un dato indice\n",
    "beatles.insert(0, \"Pete Best\")\n",
    "print(beatles.index(\"George\"))\n",
    "beatles"
   ]
  },
  {
   "attachments": {},
   "cell_type": "markdown",
   "metadata": {},
   "source": [
    "Ma, cosa più, importante possiamo ottenere delle sottoliste (**slice**) usando gli indici di inizio e di fine:"
   ]
  },
  {
   "cell_type": "code",
   "execution_count": null,
   "metadata": {},
   "outputs": [],
   "source": [
    "beatles[1:5]"
   ]
  },
  {
   "attachments": {},
   "cell_type": "markdown",
   "metadata": {},
   "source": [
    "Notate qualcosa di strano? Sì, il limite esterno **non è incluso**. Il codice prima fa arrivare la nostra sotto-lista fino all'elemento con l'indice 4!"
   ]
  },
  {
   "attachments": {},
   "cell_type": "markdown",
   "metadata": {},
   "source": [
    "Notate bene una cosa! Stringhe e liste sono tipi diversi, ma **anche con le stringhe** possiamo utilizzare gli indici; in una stringa gli indici si riferiscono ai caratteri:"
   ]
  },
  {
   "cell_type": "code",
   "execution_count": 62,
   "metadata": {},
   "outputs": [
    {
     "data": {
      "text/plain": [
       "'gelato al puffo'"
      ]
     },
     "execution_count": 62,
     "metadata": {},
     "output_type": "execute_result"
    }
   ],
   "source": [
    "stringa = 'Non mi piace il gelato al puffo'\n",
    "stringa[16:]"
   ]
  },
  {
   "attachments": {},
   "cell_type": "markdown",
   "metadata": {},
   "source": [
    "## Sintassi di base: if statement e loop"
   ]
  },
  {
   "cell_type": "markdown",
   "metadata": {},
   "source": [
    "Most of the times, what you want to do when you program is to check a value and execute some operation depending on whether the value matches some condition. That's where **if statements** help!"
   ]
  },
  {
   "cell_type": "markdown",
   "metadata": {},
   "source": [
    "In its easiest form, an If statement is syntactic construction that checks whether a condition is met; if it is some part of code is executed"
   ]
  },
  {
   "cell_type": "code",
   "execution_count": null,
   "metadata": {},
   "outputs": [
    {
     "name": "stdout",
     "output_type": "stream",
     "text": [
      "Paul played bass with the Beatles!\n"
     ]
    }
   ],
   "source": [
    "bassist = \"Paul McCartney\"\n",
    "\n",
    "if bassist == \"Paul McCartney\":\n",
    "    print(\"Paul played bass with the Beatles!\")"
   ]
  },
  {
   "cell_type": "markdown",
   "metadata": {},
   "source": [
    "Mind the **indentation** very much! This is the essential element in the syntax of the statement"
   ]
  },
  {
   "cell_type": "code",
   "execution_count": null,
   "metadata": {},
   "outputs": [],
   "source": [
    "bassist = \"Bill Wyman\"\n",
    "\n",
    "if bassist == \"Paul McCartney\":\n",
    "    print(\"I'm part of the if statement...\")\n",
    "    print(\"Paul played bass in the Beatles!\")"
   ]
  },
  {
   "cell_type": "markdown",
   "metadata": {},
   "source": [
    "What happens if the condition is not met? Nothing! The indented code is not executed, because the condition is not met, so lines 4 and 5 are simply skipped.\n",
    "\n",
    "**But what happens if we de-indent line 5**? Can you guess why this is what happes?"
   ]
  },
  {
   "cell_type": "markdown",
   "metadata": {},
   "source": [
    "Most of the time, we need to specify what happens if the conditions are not met"
   ]
  },
  {
   "cell_type": "code",
   "execution_count": null,
   "metadata": {},
   "outputs": [
    {
     "name": "stdout",
     "output_type": "stream",
     "text": [
      "This guy did not play for the Beatles...\n"
     ]
    }
   ],
   "source": [
    "bassist = \"\"\n",
    "\n",
    "if bassist == \"Paul McCartney\":\n",
    "    print(\"Paul played bass in the Beatles!\")\n",
    "else:\n",
    "    print(\"This guy did not play for the Beatles...\")"
   ]
  },
  {
   "cell_type": "markdown",
   "metadata": {},
   "source": [
    "This is the flow:\n",
    "* the condition in line 3 is checked\n",
    "* is it met?\n",
    "    * **yes**: then line 4 is executed\n",
    "    * **no**: then line 6 is executed"
   ]
  },
  {
   "cell_type": "markdown",
   "metadata": {},
   "source": [
    "Or we can specify many different conditions..."
   ]
  },
  {
   "cell_type": "code",
   "execution_count": null,
   "metadata": {},
   "outputs": [
    {
     "name": "stdout",
     "output_type": "stream",
     "text": [
      "I don't know what band this guy played for...\n"
     ]
    }
   ],
   "source": [
    "bassist = \"Bill\"\n",
    "\n",
    "if bassist == \"Paul McCartney\":\n",
    "    print(\"Paul played bass in the Beatles!\")\n",
    "elif bassist == \"Bill Wyman\":\n",
    "    print(\"Bill Wyman played for the Rolling Stones!\")\n",
    "else:\n",
    "    print(\"I don't know what band this guy played for...\")"
   ]
  },
  {
   "attachments": {},
   "cell_type": "markdown",
   "metadata": {},
   "source": [
    "Ora possiamo scrivere del codice usando un doppio livello di indent. Scriviamo una funzione (chiamata `guess_the_bass_player`) che, data una band, restituisce il nome del bassista:"
   ]
  },
  {
   "cell_type": "code",
   "execution_count": 68,
   "metadata": {},
   "outputs": [],
   "source": [
    "def guess_the_bass_player(band_name):\n",
    "    if band_name.lower() == 'beatles':\n",
    "        # 8 spazi!\n",
    "        return 'Paul McCartney'\n",
    "    elif band_name.lower() == 'rolling stones':\n",
    "        return 'Bill Wyman'\n",
    "    elif band_name.lower() == 'byrds':\n",
    "        return 'Chris Hillman'\n",
    "    elif band_name.lower() == 'weather report':\n",
    "        return 'Miroslav Vitous'\n",
    "    else:\n",
    "        return \"I don't know who played the bass in this band...\""
   ]
  },
  {
   "cell_type": "code",
   "execution_count": 69,
   "metadata": {},
   "outputs": [
    {
     "data": {
      "text/plain": [
       "'Miroslav Vitous'"
      ]
     },
     "execution_count": 69,
     "metadata": {},
     "output_type": "execute_result"
    }
   ],
   "source": [
    "guess_the_bass_player('weather report')"
   ]
  },
  {
   "attachments": {},
   "cell_type": "markdown",
   "metadata": {},
   "source": [
    "Avete notato che funziona anche se passate il nome della band in minuscolo, oltre che in maiuscolo? Come mai?"
   ]
  },
  {
   "cell_type": "markdown",
   "metadata": {},
   "source": [
    "##  For loops"
   ]
  },
  {
   "attachments": {},
   "cell_type": "markdown",
   "metadata": {},
   "source": [
    "Una delle cose più belle delle liste (ma anche delle stringhe, se è per questo) è che sono un oggetto su cui si può iterare, sono degli **iterable**. Questo significa che si possono creare dei **loop** su di esse.\n",
    "\n",
    "Come facciamo se vogliamo applicare qualche operazione su ogni elemento di una lista? La costruzione più semplice che ci può aiutare è il `for loop`!"
   ]
  },
  {
   "attachments": {},
   "cell_type": "markdown",
   "metadata": {},
   "source": [
    "Possiamo parafrasare un **for loop** in questi termini: \"per (for) ogni elemento chiamato x di un oggetto iterable (e.g. una lista): esegui del codice (ad es. stampa il valore di x)\""
   ]
  },
  {
   "cell_type": "code",
   "execution_count": 70,
   "metadata": {},
   "outputs": [
    {
     "name": "stdout",
     "output_type": "stream",
     "text": [
      "Pete Best was one of the Beatles\n",
      "John was one of the Beatles\n",
      "Paul was one of the Beatles\n",
      "George was one of the Beatles\n",
      "Ringo was one of the Beatles\n",
      "Billy Preston was one of the Beatles\n"
     ]
    }
   ],
   "source": [
    "for b in beatles:\n",
    "    print(f\"{b} was one of the Beatles\")"
   ]
  },
  {
   "attachments": {},
   "cell_type": "markdown",
   "metadata": {},
   "source": [
    "Analizziamo separatamente ogni elemento del codice percedente:\n",
    "\n",
    "* **b**: un nome totalmente arbitrario per la variabile in cui viene salvato ogni valore successivo dell'iterabile ad ogni ciclo di iterazione. Poteva essere qualunque cosa; `b` è solamente molto intuitivo in questo caso!\n",
    "* **beatles**: la lista su cui iteriamo (ad ogni ciclo un valore di beatles verrà salvato in b)\n",
    "* **:** come per l'if-statements: don't forget the colon!\n",
    "* **indent**: stessa cosa: non dimenticativi di indentare il codice! è l'unica cosa che dica a Python che deve applicare questa istruzione agli elementi del loop!\n",
    "* **riga 2**: è l'istruzione (o la funzione, o... qualunque cosa!) che vogliamo applicare agli elementi del loop"
   ]
  },
  {
   "attachments": {},
   "cell_type": "markdown",
   "metadata": {},
   "source": [
    "E ora, fondiamo `if` e `for` per fare qualcosa di carino (loop sugli elementi, se un elemento rispetta una qualche condizione, fai qualcosa)"
   ]
  },
  {
   "cell_type": "code",
   "execution_count": null,
   "metadata": {},
   "outputs": [
    {
     "name": "stdout",
     "output_type": "stream",
     "text": [
      "John played rhythm guitar with the Beatles\n",
      "Paul played bass with the Beatles\n",
      "George played lead guitar with the Beatles\n",
      "Ringo played drum with the Beatles\n"
     ]
    }
   ],
   "source": [
    "beatles = [\"John\", \"Paul\", \"George\", \"Ringo\"]\n",
    "for b in beatles:\n",
    "    if b == \"Paul\":\n",
    "        instrument = \"bass\"\n",
    "    elif b == \"John\":\n",
    "        instrument = \"rhythm guitar\"\n",
    "    elif b == \"George\":\n",
    "        instrument = \"lead guitar\"\n",
    "    elif b == \"Ringo\":\n",
    "        instrument = \"drum\"\n",
    "    print(b + \" played \" + instrument + \" with the Beatles\")"
   ]
  },
  {
   "attachments": {},
   "cell_type": "markdown",
   "metadata": {},
   "source": [
    "## Lavorare con i file"
   ]
  },
  {
   "attachments": {},
   "cell_type": "markdown",
   "metadata": {},
   "source": [
    "Una delle attività più frequenti per i programmatori è leggere i dati dai file e scrivere parte dell'output dei programmi in un file."
   ]
  },
  {
   "attachments": {},
   "cell_type": "markdown",
   "metadata": {},
   "source": [
    "In Python (come in molti linguaggi), dobbiamo prima aprire un \"file handler\", ovvero un oggetto che rappresenta il file, con la modalità appropriata per elaborarlo. I file possono essere aperti in modalità:\n",
    "* read (\"r\")\n",
    "* write (\"w\")\n",
    "* append (\"a\")\n",
    "\n",
    "Proviamo a leggere il contenuto del file \"Readme.md\""
   ]
  },
  {
   "cell_type": "markdown",
   "metadata": {},
   "source": [
    "First, we open the file handler in **read mode**:"
   ]
  },
  {
   "cell_type": "code",
   "execution_count": null,
   "metadata": {},
   "outputs": [],
   "source": [
    "#see? we assign the file-handler to a variable, or we wouldn't be able\n",
    "#to do anything with that!\n",
    "f =  open(\"NOTES.md\", \"r\")"
   ]
  },
  {
   "cell_type": "markdown",
   "metadata": {},
   "source": [
    "note that **\"r\" is optional**: read is the default mode!"
   ]
  },
  {
   "cell_type": "markdown",
   "metadata": {},
   "source": [
    "Now there are a bunch of things we can do:\n",
    "* read the full content in one variable with this code:\n",
    "\n",
    "`content = f.read()`\n",
    "\n",
    "* read the lines in a list of lines:\n",
    "\n",
    "`lines = f.readlines()`\n",
    "\n",
    "* or, which is the easiest, simply read the content one line at the time with a for loop; the **f object is iterable**, so this is as easy as:"
   ]
  },
  {
   "cell_type": "code",
   "execution_count": null,
   "metadata": {},
   "outputs": [
    {
     "name": "stdout",
     "output_type": "stream",
     "text": [
      "Password = ~Sun0ikiS1s!2oi62oi7#\n",
      "\n",
      "\n",
      "\n",
      "\tpip install jupyter\n",
      "\n",
      "\tjupyter notebook --generate-config\n",
      "\n"
     ]
    }
   ],
   "source": [
    "for l in f:\n",
    "    print(l)"
   ]
  },
  {
   "cell_type": "markdown",
   "metadata": {},
   "source": [
    "Once you're done, don't forget to **close the handle**:"
   ]
  },
  {
   "cell_type": "code",
   "execution_count": null,
   "metadata": {},
   "outputs": [],
   "source": [
    "f.close()"
   ]
  },
  {
   "cell_type": "code",
   "execution_count": null,
   "metadata": {},
   "outputs": [],
   "source": [
    "#all together\n",
    "f = open(\"NOTES.md\")\n",
    "for l in f:\n",
    "    print(l)\n",
    "f.close()"
   ]
  },
  {
   "cell_type": "markdown",
   "metadata": {},
   "source": [
    "Now, there's a shortcut statement, which you'll often see and is very convenient, because it takes care of opening, closing and cleaning up the mess, in case there's some error:"
   ]
  },
  {
   "cell_type": "code",
   "execution_count": null,
   "metadata": {},
   "outputs": [
    {
     "name": "stdout",
     "output_type": "stream",
     "text": [
      "Password = ~Sun0ikiS1s!2oi62oi7#\n",
      "\n",
      "\n",
      "\n",
      "\tpip install jupyter\n",
      "\n",
      "\tjupyter notebook --generate-config\n",
      "\n"
     ]
    }
   ],
   "source": [
    "with open(\"NOTES.md\") as f:\n",
    "    #mind the indent!\n",
    "    for l in f:\n",
    "        #double indent, of course!\n",
    "        print(l)"
   ]
  },
  {
   "cell_type": "markdown",
   "metadata": {},
   "source": [
    "Now, how about **writing** to a file? Let's try to write a simple message on a file; first, we open the handler in write mode"
   ]
  },
  {
   "cell_type": "code",
   "execution_count": null,
   "metadata": {},
   "outputs": [],
   "source": [
    "out = open(\"test.txt\", \"w\")"
   ]
  },
  {
   "cell_type": "code",
   "execution_count": null,
   "metadata": {},
   "outputs": [
    {
     "data": {
      "text/plain": [
       "70"
      ]
     },
     "metadata": {},
     "output_type": "display_data"
    }
   ],
   "source": [
    "#the file is now open; let's write something in it\n",
    "out.write(\"This is a test!\\nThis is a second line (separated with a new-line feed)\")"
   ]
  },
  {
   "cell_type": "markdown",
   "metadata": {},
   "source": [
    "The file has been created! Let's check this out"
   ]
  },
  {
   "attachments": {},
   "cell_type": "markdown",
   "metadata": {},
   "source": [
    "## Lavorare con i testi"
   ]
  },
  {
   "cell_type": "markdown",
   "metadata": {},
   "source": []
  }
 ],
 "metadata": {
  "kernelspec": {
   "display_name": "Python 3",
   "language": "python",
   "name": "python3"
  },
  "language_info": {
   "codemirror_mode": {
    "name": "ipython",
    "version": 3
   },
   "file_extension": ".py",
   "mimetype": "text/x-python",
   "name": "python",
   "nbconvert_exporter": "python",
   "pygments_lexer": "ipython3",
   "version": "3.9.13"
  },
  "orig_nbformat": 4
 },
 "nbformat": 4,
 "nbformat_minor": 2
}
